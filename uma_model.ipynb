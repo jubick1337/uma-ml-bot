{
  "nbformat": 4,
  "nbformat_minor": 0,
  "metadata": {
    "kernelspec": {
      "name": "python3",
      "display_name": "Python 3"
    },
    "language_info": {
      "codemirror_mode": {
        "name": "ipython",
        "version": 3
      },
      "file_extension": ".py",
      "mimetype": "text/x-python",
      "name": "python",
      "nbconvert_exporter": "python",
      "pygments_lexer": "ipython3",
      "version": "3.7.3"
    },
    "colab": {
      "name": "uma_model.ipynb",
      "provenance": []
    },
    "accelerator": "GPU"
  },
  "cells": [
    {
      "cell_type": "code",
      "metadata": {
        "id": "Q3me2rlabfu9",
        "colab_type": "code",
        "colab": {}
      },
      "source": [
        "from keras.layers import Dense, Conv2D, MaxPooling2D, BatchNormalization, GlobalAveragePooling2D\n",
        "from keras import models\n",
        "from keras.preprocessing.image import ImageDataGenerator\n",
        "from keras.metrics import categorical_crossentropy"
      ],
      "execution_count": 0,
      "outputs": []
    },
    {
      "cell_type": "code",
      "metadata": {
        "id": "1CLSF9PPbfvF",
        "colab_type": "code",
        "colab": {}
      },
      "source": [
        "my_model= models.Sequential()\n",
        "\n",
        "my_model.add(Conv2D(32, (3, 3), activation='relu', padding='same', \n",
        "                    input_shape=(224,224,3)))\n",
        "my_model.add(MaxPooling2D((2, 2), padding='same'))\n",
        "\n",
        "my_model.add(Conv2D(64, (3, 3), activation='relu', padding='same'))\n",
        "my_model.add(MaxPooling2D((2, 2), padding='same'))\n",
        "\n",
        "my_model.add(Conv2D(128, (3, 3), activation='relu', padding='same'))\n",
        "my_model.add(MaxPooling2D((2, 2), padding='same'))\n",
        "\n",
        "my_model.add(Conv2D(256, (3, 3), activation='relu', padding='same'))\n",
        "my_model.add(MaxPooling2D((2, 2), padding='same'))\n",
        "\n",
        "\n",
        "my_model.add(GlobalAveragePooling2D())\n",
        "\n",
        "my_model.add(Dense(256, activation='relu'))\n",
        "my_model.add(BatchNormalization())\n",
        "\n",
        "my_model.add(Dense(25, activation='softmax'))"
      ],
      "execution_count": 0,
      "outputs": []
    },
    {
      "cell_type": "code",
      "metadata": {
        "id": "awk1Zg3xbfvf",
        "colab_type": "code",
        "colab": {}
      },
      "source": [
        "my_model.compile(optimizer='adam', loss='categorical_crossentropy', \n",
        "                 metrics=['accuracy'])"
      ],
      "execution_count": 0,
      "outputs": []
    },
    {
      "cell_type": "code",
      "metadata": {
        "id": "LLOl9fPCbfvp",
        "colab_type": "code",
        "colab": {}
      },
      "source": [
        "import requests\n",
        "\n",
        "def download_file_from_google_drive(id, destination):\n",
        "    URL = \"https://docs.google.com/uc?export=download\"\n",
        "\n",
        "    session = requests.Session()\n",
        "\n",
        "    response = session.get(URL, params = { 'id' : id }, stream = True)\n",
        "    token = get_confirm_token(response)\n",
        "    print(token)\n",
        "\n",
        "    if token:\n",
        "        params = { 'id' : id, 'confirm' : token }\n",
        "        response = session.get(URL, params = params, stream = True)\n",
        "\n",
        "    save_response_content(response, destination)    \n",
        "\n",
        "def get_confirm_token(response):\n",
        "    for key, value in response.cookies.items():\n",
        "        if key.startswith('download_warning'):\n",
        "            return value\n",
        "\n",
        "    return None\n",
        "\n",
        "def save_response_content(response, destination):\n",
        "    CHUNK_SIZE = 32768\n",
        "\n",
        "    with open(destination, \"wb\") as f:\n",
        "        for chunk in response.iter_content(CHUNK_SIZE):\n",
        "            if chunk:\n",
        "                f.write(chunk)\n"
      ],
      "execution_count": 0,
      "outputs": []
    },
    {
      "cell_type": "code",
      "metadata": {
        "id": "uPXrgHgHbfv0",
        "colab_type": "code",
        "colab": {}
      },
      "source": [
        "data_generator = ImageDataGenerator(rescale=1./255)"
      ],
      "execution_count": 0,
      "outputs": []
    },
    {
      "cell_type": "code",
      "metadata": {
        "id": "Z4_64kFXbfv9",
        "colab_type": "code",
        "colab": {}
      },
      "source": [
        "train_generator = data_generator.flow_from_directory(\n",
        "        '/content/images_train',\n",
        "        target_size=(224, 224),\n",
        "        batch_size=64,\n",
        "        class_mode='categorical',\n",
        "        classes=[str(i) for i in range(25)]\n",
        "        )\n",
        "\n",
        "validation_generator = data_generator.flow_from_directory(\n",
        "        '/content/images_val',\n",
        "        target_size=(224, 224),\n",
        "        batch_size=64,\n",
        "        class_mode='categorical',\n",
        "        classes=[str(i) for i in range(25)]\n",
        "        )"
      ],
      "execution_count": 0,
      "outputs": []
    },
    {
      "cell_type": "code",
      "metadata": {
        "id": "rTXr9A9Jb0wY",
        "colab_type": "code",
        "colab": {}
      },
      "source": [
        "train_generator.class_indices"
      ],
      "execution_count": 0,
      "outputs": []
    },
    {
      "cell_type": "code",
      "metadata": {
        "id": "s49y42JhcjjH",
        "colab_type": "code",
        "colab": {}
      },
      "source": [
        "history = my_model.fit_generator(\n",
        "        train_generator,\n",
        "        epochs=100,\n",
        "        validation_data=validation_generator)"
      ],
      "execution_count": 0,
      "outputs": []
    },
    {
      "cell_type": "code",
      "metadata": {
        "id": "P4I25VzCgdsb",
        "colab_type": "code",
        "colab": {}
      },
      "source": [
        "my_model.save('model.h5')"
      ],
      "execution_count": 0,
      "outputs": []
    },
    {
      "cell_type": "code",
      "metadata": {
        "id": "ZwHq2Gkl4p-b",
        "colab_type": "code",
        "colab": {}
      },
      "source": [
        "my_model.evaluate_generator(validation_generator)"
      ],
      "execution_count": 0,
      "outputs": []
    }
  ]
}